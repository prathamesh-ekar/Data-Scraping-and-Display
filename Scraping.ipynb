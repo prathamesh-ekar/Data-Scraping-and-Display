{
  "nbformat": 4,
  "nbformat_minor": 0,
  "metadata": {
    "colab": {
      "name": "Scraping.ipynb",
      "provenance": [],
      "collapsed_sections": [],
      "include_colab_link": true
    },
    "kernelspec": {
      "name": "python3",
      "display_name": "Python 3"
    }
  },
  "cells": [
    {
      "cell_type": "markdown",
      "metadata": {
        "id": "view-in-github",
        "colab_type": "text"
      },
      "source": [
        "<a href=\"https://colab.research.google.com/github/prathamesh-ekar/DataScraping/blob/main/Scraping.ipynb\" target=\"_parent\"><img src=\"https://colab.research.google.com/assets/colab-badge.svg\" alt=\"Open In Colab\"/></a>"
      ]
    },
    {
      "cell_type": "code",
      "metadata": {
        "id": "fYtos80TUICa"
      },
      "source": [
        "main_url = \"http://books.toscrape.com/index.html\""
      ],
      "execution_count": 2,
      "outputs": []
    },
    {
      "cell_type": "code",
      "metadata": {
        "id": "DkSBmMABVSdW"
      },
      "source": [
        "import requests\n",
        "result = requests.get(main_url)"
      ],
      "execution_count": 3,
      "outputs": []
    },
    {
      "cell_type": "code",
      "metadata": {
        "colab": {
          "base_uri": "https://localhost:8080/",
          "height": 120
        },
        "id": "xB7qBtQPVVrR",
        "outputId": "d8f743c2-6cdc-4235-d6df-6b9fea931466"
      },
      "source": [
        "result.text[:1000]"
      ],
      "execution_count": 4,
      "outputs": [
        {
          "output_type": "execute_result",
          "data": {
            "application/vnd.google.colaboratory.intrinsic+json": {
              "type": "string"
            },
            "text/plain": [
              "'<!DOCTYPE html>\\n<!--[if lt IE 7]>      <html lang=\"en-us\" class=\"no-js lt-ie9 lt-ie8 lt-ie7\"> <![endif]-->\\n<!--[if IE 7]>         <html lang=\"en-us\" class=\"no-js lt-ie9 lt-ie8\"> <![endif]-->\\n<!--[if IE 8]>         <html lang=\"en-us\" class=\"no-js lt-ie9\"> <![endif]-->\\n<!--[if gt IE 8]><!--> <html lang=\"en-us\" class=\"no-js\"> <!--<![endif]-->\\n    <head>\\n        <title>\\n    All products | Books to Scrape - Sandbox\\n</title>\\n\\n        <meta http-equiv=\"content-type\" content=\"text/html; charset=UTF-8\" />\\n        <meta name=\"created\" content=\"24th Jun 2016 09:29\" />\\n        <meta name=\"description\" content=\"\" />\\n        <meta name=\"viewport\" content=\"width=device-width\" />\\n        <meta name=\"robots\" content=\"NOARCHIVE,NOCACHE\" />\\n\\n        <!-- Le HTML5 shim, for IE6-8 support of HTML elements -->\\n        <!--[if lt IE 9]>\\n        <script src=\"//html5shim.googlecode.com/svn/trunk/html5.js\"></script>\\n        <![endif]-->\\n\\n        \\n            <link rel=\"shortcut icon\" href=\"static/oscar/favicon.'"
            ]
          },
          "metadata": {
            "tags": []
          },
          "execution_count": 4
        }
      ]
    },
    {
      "cell_type": "code",
      "metadata": {
        "id": "tTou3lE4VtDu"
      },
      "source": [
        "from bs4 import BeautifulSoup\n",
        "soup = BeautifulSoup(result.text, 'html.parser')"
      ],
      "execution_count": 5,
      "outputs": []
    },
    {
      "cell_type": "code",
      "metadata": {
        "colab": {
          "base_uri": "https://localhost:8080/"
        },
        "id": "CCQVXsC-VuPw",
        "outputId": "9e9f8f90-08f5-4a38-df26-48e2e07eed13"
      },
      "source": [
        "print(soup.prettify()[:1000])"
      ],
      "execution_count": 6,
      "outputs": [
        {
          "output_type": "stream",
          "text": [
            "<!DOCTYPE html>\n",
            "<!--[if lt IE 7]>      <html lang=\"en-us\" class=\"no-js lt-ie9 lt-ie8 lt-ie7\"> <![endif]-->\n",
            "<!--[if IE 7]>         <html lang=\"en-us\" class=\"no-js lt-ie9 lt-ie8\"> <![endif]-->\n",
            "<!--[if IE 8]>         <html lang=\"en-us\" class=\"no-js lt-ie9\"> <![endif]-->\n",
            "<!--[if gt IE 8]><!-->\n",
            "<html class=\"no-js\" lang=\"en-us\">\n",
            " <!--<![endif]-->\n",
            " <head>\n",
            "  <title>\n",
            "   All products | Books to Scrape - Sandbox\n",
            "  </title>\n",
            "  <meta content=\"text/html; charset=utf-8\" http-equiv=\"content-type\"/>\n",
            "  <meta content=\"24th Jun 2016 09:29\" name=\"created\"/>\n",
            "  <meta content=\"\" name=\"description\"/>\n",
            "  <meta content=\"width=device-width\" name=\"viewport\"/>\n",
            "  <meta content=\"NOARCHIVE,NOCACHE\" name=\"robots\"/>\n",
            "  <!-- Le HTML5 shim, for IE6-8 support of HTML elements -->\n",
            "  <!--[if lt IE 9]>\n",
            "        <script src=\"//html5shim.googlecode.com/svn/trunk/html5.js\"></script>\n",
            "        <![endif]-->\n",
            "  <link href=\"static/oscar/favicon.ico\" rel=\"shortcut icon\"/>\n",
            "  <link href=\"static/oscar/css/styles.css\" rel=\"stylesheet\" type=\"tex\n"
          ],
          "name": "stdout"
        }
      ]
    },
    {
      "cell_type": "code",
      "metadata": {
        "id": "a9faP5heVyWZ"
      },
      "source": [
        "def getAndParseURL(url):\n",
        "    result = requests.get(url)\n",
        "    soup = BeautifulSoup(result.text, 'html.parser')\n",
        "    return(soup)"
      ],
      "execution_count": 7,
      "outputs": []
    },
    {
      "cell_type": "code",
      "metadata": {
        "colab": {
          "base_uri": "https://localhost:8080/"
        },
        "id": "Z1RgMS3_V7gQ",
        "outputId": "21a5be94-b0a0-43ce-8c78-42c99dfc7e2c"
      },
      "source": [
        "soup.find(\"article\", class_ = \"product_pod\")"
      ],
      "execution_count": 8,
      "outputs": [
        {
          "output_type": "execute_result",
          "data": {
            "text/plain": [
              "<article class=\"product_pod\">\n",
              "<div class=\"image_container\">\n",
              "<a href=\"catalogue/a-light-in-the-attic_1000/index.html\"><img alt=\"A Light in the Attic\" class=\"thumbnail\" src=\"media/cache/2c/da/2cdad67c44b002e7ead0cc35693c0e8b.jpg\"/></a>\n",
              "</div>\n",
              "<p class=\"star-rating Three\">\n",
              "<i class=\"icon-star\"></i>\n",
              "<i class=\"icon-star\"></i>\n",
              "<i class=\"icon-star\"></i>\n",
              "<i class=\"icon-star\"></i>\n",
              "<i class=\"icon-star\"></i>\n",
              "</p>\n",
              "<h3><a href=\"catalogue/a-light-in-the-attic_1000/index.html\" title=\"A Light in the Attic\">A Light in the ...</a></h3>\n",
              "<div class=\"product_price\">\n",
              "<p class=\"price_color\">Â£51.77</p>\n",
              "<p class=\"instock availability\">\n",
              "<i class=\"icon-ok\"></i>\n",
              "    \n",
              "        In stock\n",
              "    \n",
              "</p>\n",
              "<form>\n",
              "<button class=\"btn btn-primary btn-block\" data-loading-text=\"Adding...\" type=\"submit\">Add to basket</button>\n",
              "</form>\n",
              "</div>\n",
              "</article>"
            ]
          },
          "metadata": {
            "tags": []
          },
          "execution_count": 8
        }
      ]
    },
    {
      "cell_type": "code",
      "metadata": {
        "colab": {
          "base_uri": "https://localhost:8080/"
        },
        "id": "z-k5GD2pV-Ou",
        "outputId": "bc100389-b2c4-45f2-a86b-5e54ab4176f4"
      },
      "source": [
        "soup.find(\"article\", class_ = \"product_pod\").div.a"
      ],
      "execution_count": 9,
      "outputs": [
        {
          "output_type": "execute_result",
          "data": {
            "text/plain": [
              "<a href=\"catalogue/a-light-in-the-attic_1000/index.html\"><img alt=\"A Light in the Attic\" class=\"thumbnail\" src=\"media/cache/2c/da/2cdad67c44b002e7ead0cc35693c0e8b.jpg\"/></a>"
            ]
          },
          "metadata": {
            "tags": []
          },
          "execution_count": 9
        }
      ]
    },
    {
      "cell_type": "code",
      "metadata": {
        "colab": {
          "base_uri": "https://localhost:8080/",
          "height": 35
        },
        "id": "e6Gi-rJ4WA32",
        "outputId": "c3a1ba67-a9cc-44ac-dda7-39e611746d0a"
      },
      "source": [
        "soup.find(\"article\", class_ = \"product_pod\").div.a.get('href')"
      ],
      "execution_count": 10,
      "outputs": [
        {
          "output_type": "execute_result",
          "data": {
            "application/vnd.google.colaboratory.intrinsic+json": {
              "type": "string"
            },
            "text/plain": [
              "'catalogue/a-light-in-the-attic_1000/index.html'"
            ]
          },
          "metadata": {
            "tags": []
          },
          "execution_count": 10
        }
      ]
    },
    {
      "cell_type": "code",
      "metadata": {
        "colab": {
          "base_uri": "https://localhost:8080/",
          "height": 69
        },
        "id": "2owKLZoLWDdc",
        "outputId": "ead0f12c-110b-441b-ec05-38c2cfef6b41"
      },
      "source": [
        "main_page_products_urls = [x.div.a.get('href') for x in soup.findAll(\"article\", class_ = \"product_pod\")]\n",
        "\n",
        "print(str(len(main_page_products_urls)) + \" fetched products URLs\")\n",
        "print(\"One example:\")\n",
        "main_page_products_urls[0]"
      ],
      "execution_count": 11,
      "outputs": [
        {
          "output_type": "stream",
          "text": [
            "20 fetched products URLs\n",
            "One example:\n"
          ],
          "name": "stdout"
        },
        {
          "output_type": "execute_result",
          "data": {
            "application/vnd.google.colaboratory.intrinsic+json": {
              "type": "string"
            },
            "text/plain": [
              "'catalogue/a-light-in-the-attic_1000/index.html'"
            ]
          },
          "metadata": {
            "tags": []
          },
          "execution_count": 11
        }
      ]
    },
    {
      "cell_type": "code",
      "metadata": {
        "id": "vglwI6qpWJHd"
      },
      "source": [
        "def getBooksURLs(url):\n",
        "    soup = getAndParseURL(url)\n",
        "    # remove the index.html part of the base url before returning the results\n",
        "    return([\"/\".join(url.split(\"/\")[:-1]) + \"/\" + x.div.a.get('href') for x in soup.findAll(\"article\", class_ = \"product_pod\")])"
      ],
      "execution_count": 12,
      "outputs": []
    },
    {
      "cell_type": "code",
      "metadata": {
        "colab": {
          "base_uri": "https://localhost:8080/"
        },
        "id": "20-wsDivWQGs",
        "outputId": "3c025f05-029e-4d40-8c16-42ebe3100937"
      },
      "source": [
        "import re\n",
        "\n",
        "categories_urls = [main_url + x.get('href') for x in soup.find_all(\"a\", href=re.compile(\"catalogue/category/books\"))]\n",
        "categories_urls = categories_urls[1:] # we remove the first one because it corresponds to all the books\n",
        "\n",
        "print(str(len(categories_urls)) + \" fetched categories URLs\")\n",
        "print(\"Some examples:\")\n",
        "categories_urls[:5]"
      ],
      "execution_count": 13,
      "outputs": [
        {
          "output_type": "stream",
          "text": [
            "50 fetched categories URLs\n",
            "Some examples:\n"
          ],
          "name": "stdout"
        },
        {
          "output_type": "execute_result",
          "data": {
            "text/plain": [
              "['http://books.toscrape.com/index.htmlcatalogue/category/books/travel_2/index.html',\n",
              " 'http://books.toscrape.com/index.htmlcatalogue/category/books/mystery_3/index.html',\n",
              " 'http://books.toscrape.com/index.htmlcatalogue/category/books/historical-fiction_4/index.html',\n",
              " 'http://books.toscrape.com/index.htmlcatalogue/category/books/sequential-art_5/index.html',\n",
              " 'http://books.toscrape.com/index.htmlcatalogue/category/books/classics_6/index.html']"
            ]
          },
          "metadata": {
            "tags": []
          },
          "execution_count": 13
        }
      ]
    },
    {
      "cell_type": "code",
      "metadata": {
        "id": "bTfkIinlWj9v"
      },
      "source": [
        "# store all the results into a list\n",
        "pages_urls = [main_url]\n",
        "\n",
        "soup = getAndParseURL(pages_urls[0])\n",
        "\n",
        "# while we get two matches, this means that the web page contains a 'previous' and a 'next' button\n",
        "# if there is only one button, this means that we are either on the first page or on the last page\n",
        "# we stop when we get to the last page\n",
        "\n",
        "while len(soup.findAll(\"a\", href=re.compile(\"page\"))) == 2 or len(pages_urls) == 1:\n",
        "    \n",
        "    # get the new complete url by adding the fetched URL to the base URL (and removing the .html part of the base URL)\n",
        "    new_url = \"/\".join(pages_urls[-1].split(\"/\")[:-1]) + \"/\" + soup.findAll(\"a\", href=re.compile(\"page\"))[-1].get(\"href\")\n",
        "    \n",
        "    # add the URL to the list\n",
        "    pages_urls.append(new_url)\n",
        "    \n",
        "    # parse the next page\n",
        "    soup = getAndParseURL(new_url)"
      ],
      "execution_count": 14,
      "outputs": []
    },
    {
      "cell_type": "code",
      "metadata": {
        "colab": {
          "base_uri": "https://localhost:8080/"
        },
        "id": "VsxlagUWWxF6",
        "outputId": "b0efb24a-d78c-44a6-b314-bf43ee2de188"
      },
      "source": [
        "print(str(len(pages_urls)) + \" fetched URLs\")\n",
        "print(\"Some examples:\")\n",
        "pages_urls[:5]"
      ],
      "execution_count": 15,
      "outputs": [
        {
          "output_type": "stream",
          "text": [
            "50 fetched URLs\n",
            "Some examples:\n"
          ],
          "name": "stdout"
        },
        {
          "output_type": "execute_result",
          "data": {
            "text/plain": [
              "['http://books.toscrape.com/index.html',\n",
              " 'http://books.toscrape.com/catalogue/page-2.html',\n",
              " 'http://books.toscrape.com/catalogue/page-3.html',\n",
              " 'http://books.toscrape.com/catalogue/page-4.html',\n",
              " 'http://books.toscrape.com/catalogue/page-5.html']"
            ]
          },
          "metadata": {
            "tags": []
          },
          "execution_count": 15
        }
      ]
    },
    {
      "cell_type": "code",
      "metadata": {
        "colab": {
          "base_uri": "https://localhost:8080/"
        },
        "id": "FCy2SfLyW5Am",
        "outputId": "9692c781-92c7-460b-c54b-bd039ed357cf"
      },
      "source": [
        "result = requests.get(\"http://books.toscrape.com/catalogue/page-50.html\")\n",
        "print(\"status code for page 50: \" + str(result.status_code))\n",
        "\n",
        "result = requests.get(\"http://books.toscrape.com/catalogue/page-51.html\")\n",
        "print(\"status code for page 51: \" + str(result.status_code))"
      ],
      "execution_count": 16,
      "outputs": [
        {
          "output_type": "stream",
          "text": [
            "status code for page 50: 200\n",
            "status code for page 51: 404\n"
          ],
          "name": "stdout"
        }
      ]
    },
    {
      "cell_type": "code",
      "metadata": {
        "id": "OS2R2e7nXAUh"
      },
      "source": [
        "pages_urls = []\n",
        "\n",
        "new_page = \"http://books.toscrape.com/catalogue/page-1.html\"\n",
        "while requests.get(new_page).status_code == 200:\n",
        "    pages_urls.append(new_page)\n",
        "    new_page = pages_urls[-1].split(\"-\")[0] + \"-\" + str(int(pages_urls[-1].split(\"-\")[1].split(\".\")[0]) + 1) + \".html\""
      ],
      "execution_count": 17,
      "outputs": []
    },
    {
      "cell_type": "code",
      "metadata": {
        "colab": {
          "base_uri": "https://localhost:8080/"
        },
        "id": "D7bCoU2mXGF3",
        "outputId": "81fb3a1f-0bcc-4f12-dd73-873db0b2683a"
      },
      "source": [
        "print(str(len(pages_urls)) + \" fetched URLs\")\n",
        "print(\"Some examples:\")\n",
        "pages_urls[:5]"
      ],
      "execution_count": 18,
      "outputs": [
        {
          "output_type": "stream",
          "text": [
            "50 fetched URLs\n",
            "Some examples:\n"
          ],
          "name": "stdout"
        },
        {
          "output_type": "execute_result",
          "data": {
            "text/plain": [
              "['http://books.toscrape.com/catalogue/page-1.html',\n",
              " 'http://books.toscrape.com/catalogue/page-2.html',\n",
              " 'http://books.toscrape.com/catalogue/page-3.html',\n",
              " 'http://books.toscrape.com/catalogue/page-4.html',\n",
              " 'http://books.toscrape.com/catalogue/page-5.html']"
            ]
          },
          "metadata": {
            "tags": []
          },
          "execution_count": 18
        }
      ]
    },
    {
      "cell_type": "code",
      "metadata": {
        "id": "7GMjw3j3XKTb"
      },
      "source": [
        "booksURLs = []\n",
        "for page in pages_urls:\n",
        "    booksURLs.extend(getBooksURLs(page))"
      ],
      "execution_count": 19,
      "outputs": []
    },
    {
      "cell_type": "code",
      "metadata": {
        "colab": {
          "base_uri": "https://localhost:8080/"
        },
        "id": "_lEqz2DaXQcv",
        "outputId": "b4e05ce4-82e3-4b4d-846e-d18e659acc24"
      },
      "source": [
        "print(str(len(booksURLs)) + \" fetched URLs\")\n",
        "print(\"Some examples:\")\n",
        "booksURLs[:5]"
      ],
      "execution_count": 20,
      "outputs": [
        {
          "output_type": "stream",
          "text": [
            "1000 fetched URLs\n",
            "Some examples:\n"
          ],
          "name": "stdout"
        },
        {
          "output_type": "execute_result",
          "data": {
            "text/plain": [
              "['http://books.toscrape.com/catalogue/a-light-in-the-attic_1000/index.html',\n",
              " 'http://books.toscrape.com/catalogue/tipping-the-velvet_999/index.html',\n",
              " 'http://books.toscrape.com/catalogue/soumission_998/index.html',\n",
              " 'http://books.toscrape.com/catalogue/sharp-objects_997/index.html',\n",
              " 'http://books.toscrape.com/catalogue/sapiens-a-brief-history-of-humankind_996/index.html']"
            ]
          },
          "metadata": {
            "tags": []
          },
          "execution_count": 20
        }
      ]
    },
    {
      "cell_type": "code",
      "metadata": {
        "colab": {
          "base_uri": "https://localhost:8080/"
        },
        "id": "3DpASd7PXT8q",
        "outputId": "da662366-67e2-46f2-da55-0e312126698e"
      },
      "source": [
        "%%time\n",
        "\n",
        "titles = []\n",
        "ratings = []\n",
        "prices = []\n",
        "stockcount = []\n",
        "descriptions = []\n",
        "genres = []\n",
        "upcs = []\n",
        "#img_urls = []\n",
        "\n",
        "# scrape data for every book URL: this may take some time\n",
        "for url in booksURLs:\n",
        "    soup = getAndParseURL(url)\n",
        "    # product title\n",
        "    titles.append(soup.find(\"div\", class_ = re.compile(\"product_main\")).h1.text)\n",
        "    # ratings\n",
        "    ratings.append(soup.find(\"p\", class_ = re.compile(\"star-rating\")).get(\"class\")[1])\n",
        "    # product price\n",
        "    prices.append(soup.find(\"p\", class_ = \"price_color\").text[2:]) # get rid of the pound sign\n",
        "    # number of available products\n",
        "    stockcount.append(re.sub(\"[^0-9]\", \"\", soup.find(\"p\", class_ = \"instock availability\").text)) # get rid of non numerical characters\n",
        "    # product description\n",
        "    descriptions.append(soup.find(\"article\", class_ = re.compile(\"product_page\")).select_one(\"p:nth-of-type(4)\").text)\n",
        "    # product genre\n",
        "    genres.append(soup.find(\"a\", href = re.compile(\"../category/books/\")).text)\n",
        "    # product upc\n",
        "    upcs.append(soup.find(\"table\", class_ = re.compile(\"table-striped\")).td.text)\n",
        "    # image url\n",
        "    # img_urls.append(url.replace(\"index.html\", \"\") + soup.find(\"img\").get(\"src\"))"
      ],
      "execution_count": 21,
      "outputs": [
        {
          "output_type": "stream",
          "text": [
            "CPU times: user 16.6 s, sys: 343 ms, total: 16.9 s\n",
            "Wall time: 1min 55s\n"
          ],
          "name": "stdout"
        }
      ]
    },
    {
      "cell_type": "code",
      "metadata": {
        "colab": {
          "base_uri": "https://localhost:8080/",
          "height": 195
        },
        "id": "-TL0Sb1JXZpr",
        "outputId": "5db44201-9731-40a9-bc31-652d057a2ab4"
      },
      "source": [
        "# add data into pandas df\n",
        "import pandas as pd\n",
        "\n",
        "scraped_data = pd.DataFrame({'Title': titles, \"Rating\": ratings, 'Price': prices, 'Stock': stockcount, \"Description\": descriptions, \"Genre\": genres, \"UPC\": upcs})\n",
        "scraped_data.head()"
      ],
      "execution_count": 22,
      "outputs": [
        {
          "output_type": "execute_result",
          "data": {
            "text/html": [
              "<div>\n",
              "<style scoped>\n",
              "    .dataframe tbody tr th:only-of-type {\n",
              "        vertical-align: middle;\n",
              "    }\n",
              "\n",
              "    .dataframe tbody tr th {\n",
              "        vertical-align: top;\n",
              "    }\n",
              "\n",
              "    .dataframe thead th {\n",
              "        text-align: right;\n",
              "    }\n",
              "</style>\n",
              "<table border=\"1\" class=\"dataframe\">\n",
              "  <thead>\n",
              "    <tr style=\"text-align: right;\">\n",
              "      <th></th>\n",
              "      <th>Title</th>\n",
              "      <th>Rating</th>\n",
              "      <th>Price</th>\n",
              "      <th>Stock</th>\n",
              "      <th>Description</th>\n",
              "      <th>Genre</th>\n",
              "      <th>UPC</th>\n",
              "    </tr>\n",
              "  </thead>\n",
              "  <tbody>\n",
              "    <tr>\n",
              "      <th>0</th>\n",
              "      <td>A Light in the Attic</td>\n",
              "      <td>Three</td>\n",
              "      <td>51.77</td>\n",
              "      <td>22</td>\n",
              "      <td>It's hard to imagine a world without A Light i...</td>\n",
              "      <td>Poetry</td>\n",
              "      <td>a897fe39b1053632</td>\n",
              "    </tr>\n",
              "    <tr>\n",
              "      <th>1</th>\n",
              "      <td>Tipping the Velvet</td>\n",
              "      <td>One</td>\n",
              "      <td>53.74</td>\n",
              "      <td>20</td>\n",
              "      <td>\"Erotic and absorbing...Written with starling ...</td>\n",
              "      <td>Historical Fiction</td>\n",
              "      <td>90fa61229261140a</td>\n",
              "    </tr>\n",
              "    <tr>\n",
              "      <th>2</th>\n",
              "      <td>Soumission</td>\n",
              "      <td>One</td>\n",
              "      <td>50.10</td>\n",
              "      <td>20</td>\n",
              "      <td>Dans une France assez proche de la nÃ´tre, un ...</td>\n",
              "      <td>Fiction</td>\n",
              "      <td>6957f44c3847a760</td>\n",
              "    </tr>\n",
              "    <tr>\n",
              "      <th>3</th>\n",
              "      <td>Sharp Objects</td>\n",
              "      <td>Four</td>\n",
              "      <td>47.82</td>\n",
              "      <td>20</td>\n",
              "      <td>WICKED above her hipbone, GIRL across her hear...</td>\n",
              "      <td>Mystery</td>\n",
              "      <td>e00eb4fd7b871a48</td>\n",
              "    </tr>\n",
              "    <tr>\n",
              "      <th>4</th>\n",
              "      <td>Sapiens: A Brief History of Humankind</td>\n",
              "      <td>Five</td>\n",
              "      <td>54.23</td>\n",
              "      <td>20</td>\n",
              "      <td>From a renowned historian comes a groundbreaki...</td>\n",
              "      <td>History</td>\n",
              "      <td>4165285e1663650f</td>\n",
              "    </tr>\n",
              "  </tbody>\n",
              "</table>\n",
              "</div>"
            ],
            "text/plain": [
              "                                   Title  ...               UPC\n",
              "0                   A Light in the Attic  ...  a897fe39b1053632\n",
              "1                     Tipping the Velvet  ...  90fa61229261140a\n",
              "2                             Soumission  ...  6957f44c3847a760\n",
              "3                          Sharp Objects  ...  e00eb4fd7b871a48\n",
              "4  Sapiens: A Brief History of Humankind  ...  4165285e1663650f\n",
              "\n",
              "[5 rows x 7 columns]"
            ]
          },
          "metadata": {
            "tags": []
          },
          "execution_count": 22
        }
      ]
    },
    {
      "cell_type": "code",
      "metadata": {
        "id": "ep6g9AzgZNZ1"
      },
      "source": [
        "# saving in csv file\n",
        "scraped_data.to_csv('data.csv')"
      ],
      "execution_count": 23,
      "outputs": []
    },
    {
      "cell_type": "code",
      "metadata": {
        "id": "a-h2EpX-ZNcA"
      },
      "source": [
        "# saving in sqlite db\n",
        "import sqlite3\n",
        "conn = sqlite3.connect('data.db')\n",
        "c = conn.cursor()\n",
        "#c.execute('CREATE TABLE BOOKS (Title text, Rating text, Price number, Stock number, Description text, Genre text, UPC text)')\n",
        "conn.commit()"
      ],
      "execution_count": 24,
      "outputs": []
    },
    {
      "cell_type": "code",
      "metadata": {
        "id": "UrCXUcdojyeG",
        "colab": {
          "base_uri": "https://localhost:8080/"
        },
        "outputId": "5d8c8dc2-4679-4275-b1ee-4ac6407a8aab"
      },
      "source": [
        "scraped_data.to_sql('BOOKS', conn, if_exists='replace', index = False)\n",
        "\n",
        "c.execute('''SELECT * FROM BOOKS''')\n",
        "\n",
        "count = 0\n",
        "for row in c.fetchall():\n",
        "    if count < 5:\n",
        "      print (row)\n",
        "      count+=1\n",
        "    else: \n",
        "      break"
      ],
      "execution_count": 25,
      "outputs": [
        {
          "output_type": "stream",
          "text": [
            "('A Light in the Attic', 'Three', '51.77', '22', \"It's hard to imagine a world without A Light in the Attic. This now-classic collection of poetry and drawings from Shel Silverstein celebrates its 20th anniversary with this special edition. Silverstein's humorous and creative verse can amuse the dowdiest of readers. Lemon-faced adults and fidgety kids sit still and read these rhythmic words and laugh and smile and love th It's hard to imagine a world without A Light in the Attic. This now-classic collection of poetry and drawings from Shel Silverstein celebrates its 20th anniversary with this special edition. Silverstein's humorous and creative verse can amuse the dowdiest of readers. Lemon-faced adults and fidgety kids sit still and read these rhythmic words and laugh and smile and love that Silverstein. Need proof of his genius? RockabyeRockabye baby, in the treetopDon't you know a treetopIs no safe place to rock?And who put you up there,And your cradle, too?Baby, I think someone down here'sGot it in for you. Shel, you never sounded so good. ...more\", 'Poetry', 'a897fe39b1053632')\n",
            "('Tipping the Velvet', 'One', '53.74', '20', '\"Erotic and absorbing...Written with starling power.\"--\"The New York Times Book Review \" Nan King, an oyster girl, is captivated by the music hall phenomenon Kitty Butler, a male impersonator extraordinaire treading the boards in Canterbury. Through a friend at the box office, Nan manages to visit all her shows and finally meet her heroine. Soon after, she becomes Kitty\\'s \"Erotic and absorbing...Written with starling power.\"--\"The New York Times Book Review \" Nan King, an oyster girl, is captivated by the music hall phenomenon Kitty Butler, a male impersonator extraordinaire treading the boards in Canterbury. Through a friend at the box office, Nan manages to visit all her shows and finally meet her heroine. Soon after, she becomes Kitty\\'s dresser and the two head for the bright lights of Leicester Square where they begin a glittering career as music-hall stars in an all-singing and dancing double act. At the same time, behind closed doors, they admit their attraction to each other and their affair begins. ...more', 'Historical Fiction', '90fa61229261140a')\n",
            "('Soumission', 'One', '50.10', '20', 'Dans une France assez proche de la nÃ´tre, un homme sâ\\x80\\x99engage dans la carriÃ¨re universitaire. Peu motivÃ© par lâ\\x80\\x99enseignement, il sâ\\x80\\x99attend Ã\\xa0 une vie ennuyeuse mais calme, protÃ©gÃ©e des grands drames historiques. Cependant les forces en jeu dans le pays ont fissurÃ© le systÃ¨me politique jusquâ\\x80\\x99Ã\\xa0 provoquer son effondrement. Cette implosion sans soubresauts, sans vraie rÃ©volution, s Dans une France assez proche de la nÃ´tre, un homme sâ\\x80\\x99engage dans la carriÃ¨re universitaire. Peu motivÃ© par lâ\\x80\\x99enseignement, il sâ\\x80\\x99attend Ã\\xa0 une vie ennuyeuse mais calme, protÃ©gÃ©e des grands drames historiques. Cependant les forces en jeu dans le pays ont fissurÃ© le systÃ¨me politique jusquâ\\x80\\x99Ã\\xa0 provoquer son effondrement. Cette implosion sans soubresauts, sans vraie rÃ©volution, se dÃ©veloppe comme un mauvais rÃªve.Le talent de lâ\\x80\\x99auteur, sa force visionnaire nous entraÃ®nent sur un terrain ambigu et glissant ; son regard sur notre civilisation vieillissante fait coexister dans ce roman les intuitions poÃ©tiques, les effets comiques, une mÃ©lancolie fataliste.Ce livre est une saisissante fable politique et morale. ...more', 'Fiction', '6957f44c3847a760')\n",
            "('Sharp Objects', 'Four', '47.82', '20', 'WICKED above her hipbone, GIRL across her heart Words are like a road map to reporter Camille Preakerâ\\x80\\x99s troubled past. Fresh from a brief stay at a psych hospital, Camilleâ\\x80\\x99s first assignment from the second-rate daily paper where she works brings her reluctantly back to her hometown to cover the murders of two preteen girls. NASTY on her kneecap, BABYDOLL on her leg Since WICKED above her hipbone, GIRL across her heart Words are like a road map to reporter Camille Preakerâ\\x80\\x99s troubled past. Fresh from a brief stay at a psych hospital, Camilleâ\\x80\\x99s first assignment from the second-rate daily paper where she works brings her reluctantly back to her hometown to cover the murders of two preteen girls. NASTY on her kneecap, BABYDOLL on her leg Since she left town eight years ago, Camille has hardly spoken to her neurotic, hypochondriac mother or to the half-sister she barely knows: a beautiful thirteen-year-old with an eerie grip on the town. Now, installed again in her familyâ\\x80\\x99s Victorian mansion, Camille is haunted by the childhood tragedy she has spent her whole life trying to cut from her memory. HARMFUL on her wrist, WHORE on her ankle As Camille works to uncover the truth about these violent crimes, she finds herself identifying with the young victimsâ\\x80\\x94a bit too strongly. Clues keep leading to dead ends, forcing Camille to unravel the psychological puzzle of her own past to get at the story. Dogged by her own demons, Camille will have to confront what happened to her years before if she wants to survive this homecoming.With its taut, crafted writing, Sharp Objects is addictive, haunting, and unforgettable. ...more', 'Mystery', 'e00eb4fd7b871a48')\n",
            "('Sapiens: A Brief History of Humankind', 'Five', '54.23', '20', 'From a renowned historian comes a groundbreaking narrative of humanityâ\\x80\\x99s creation and evolutionâ\\x80\\x94a #1 international bestsellerâ\\x80\\x94that explores the ways in which biology and history have defined us and enhanced our understanding of what it means to be â\\x80\\x9chuman.â\\x80\\x9dOne hundred thousand years ago, at least six different species of humans inhabited Earth. Yet today there is only oneâ\\x80\\x94h From a renowned historian comes a groundbreaking narrative of humanityâ\\x80\\x99s creation and evolutionâ\\x80\\x94a #1 international bestsellerâ\\x80\\x94that explores the ways in which biology and history have defined us and enhanced our understanding of what it means to be â\\x80\\x9chuman.â\\x80\\x9dOne hundred thousand years ago, at least six different species of humans inhabited Earth. Yet today there is only oneâ\\x80\\x94homo sapiens. What happened to the others? And what may happen to us?Most books about the history of humanity pursue either a historical or a biological approach, but Dr. Yuval Noah Harari breaks the mold with this highly original book that begins about 70,000 years ago with the appearance of modern cognition. From examining the role evolving humans have played in the global ecosystem to charting the rise of empires, Sapiens integrates history and science to reconsider accepted narratives, connect past developments with contemporary concerns, and examine specific events within the context of larger ideas.Dr. Harari also compels us to look ahead, because over the last few decades humans have begun to bend laws of natural selection that have governed life for the past four billion years. We are acquiring the ability to design not only the world around us, but also ourselves. Where is this leading us, and what do we want to become?Featuring 27 photographs, 6 maps, and 25 illustrations/diagrams, this provocative and insightful work is sure to spark debate and is essential reading for aficionados of Jared Diamond, James Gleick, Matt Ridley, Robert Wright, and Sharon Moalem. ...more', 'History', '4165285e1663650f')\n"
          ],
          "name": "stdout"
        }
      ]
    }
  ]
}